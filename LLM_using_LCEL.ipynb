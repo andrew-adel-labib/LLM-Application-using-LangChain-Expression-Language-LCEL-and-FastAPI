{
 "cells": [
  {
   "cell_type": "code",
   "execution_count": 1,
   "id": "f1fa0b7f",
   "metadata": {},
   "outputs": [],
   "source": [
    "import os \n",
    "import openai\n",
    "from dotenv import load_dotenv \n",
    "from langchain_openai import ChatOpenAI\n",
    "from langchain_groq import ChatGroq\n",
    "from langchain_core.messages import HumanMessage, SystemMessage\n",
    "from langchain_core.output_parsers import StrOutputParser\n",
    "from langchain_core.prompts import ChatPromptTemplate"
   ]
  },
  {
   "cell_type": "code",
   "execution_count": 2,
   "id": "eb374b1a",
   "metadata": {},
   "outputs": [
    {
     "data": {
      "text/plain": [
       "True"
      ]
     },
     "execution_count": 2,
     "metadata": {},
     "output_type": "execute_result"
    }
   ],
   "source": [
    "load_dotenv()"
   ]
  },
  {
   "cell_type": "code",
   "execution_count": null,
   "id": "c2f21524",
   "metadata": {},
   "outputs": [
    {
     "data": {
      "text/plain": [
       "'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'"
      ]
     },
     "execution_count": 3,
     "metadata": {},
     "output_type": "execute_result"
    }
   ],
   "source": [
    "openai.api_key = os.getenv(\"OPENAI_API_KEY\")\n",
    "groq_api_key = os.getenv(\"GROQ_API_KEY\")\n",
    "groq_api_key"
   ]
  },
  {
   "cell_type": "code",
   "execution_count": 4,
   "id": "b94efab2",
   "metadata": {},
   "outputs": [
    {
     "data": {
      "text/plain": [
       "ChatGroq(client=<groq.resources.chat.completions.Completions object at 0x0000020A88785CC0>, async_client=<groq.resources.chat.completions.AsyncCompletions object at 0x0000020A888C5AB0>, model_name='Gemma2-9b-It', model_kwargs={}, groq_api_key=SecretStr('**********'))"
      ]
     },
     "execution_count": 4,
     "metadata": {},
     "output_type": "execute_result"
    }
   ],
   "source": [
    "gemma_model = ChatGroq(model=\"Gemma2-9b-It\", groq_api_key=groq_api_key)\n",
    "gemma_model"
   ]
  },
  {
   "cell_type": "code",
   "execution_count": 5,
   "id": "55e22f63",
   "metadata": {},
   "outputs": [
    {
     "data": {
      "text/plain": [
       "ChatGroq(client=<groq.resources.chat.completions.Completions object at 0x0000020A86AACCA0>, async_client=<groq.resources.chat.completions.AsyncCompletions object at 0x0000020A888F07C0>, model_name='openai/gpt-oss-120b', model_kwargs={}, groq_api_key=SecretStr('**********'))"
      ]
     },
     "execution_count": 5,
     "metadata": {},
     "output_type": "execute_result"
    }
   ],
   "source": [
    "gpt_model = ChatGroq(model=\"openai/gpt-oss-120b\", groq_api_key=groq_api_key)\n",
    "gpt_model"
   ]
  },
  {
   "cell_type": "code",
   "execution_count": 6,
   "id": "99358040",
   "metadata": {},
   "outputs": [
    {
     "data": {
      "text/plain": [
       "[SystemMessage(content='Translate the following from English to French', additional_kwargs={}, response_metadata={}),\n",
       " HumanMessage(content='Hello, How are you?', additional_kwargs={}, response_metadata={})]"
      ]
     },
     "execution_count": 6,
     "metadata": {},
     "output_type": "execute_result"
    }
   ],
   "source": [
    "messages = [\n",
    "    SystemMessage(content=\"Translate the following from English to French\"),\n",
    "    HumanMessage(content=\"Hello, How are you?\")\n",
    "]\n",
    "messages"
   ]
  },
  {
   "cell_type": "code",
   "execution_count": 7,
   "id": "758b4a19",
   "metadata": {},
   "outputs": [
    {
     "data": {
      "text/plain": [
       "AIMessage(content=\"Bonjour, comment allez-vous ? \\n\\n\\nLet me know if you have any other phrases you'd like translated!\\n\", additional_kwargs={}, response_metadata={'token_usage': {'completion_tokens': 27, 'prompt_tokens': 22, 'total_tokens': 49, 'completion_time': 0.049090909, 'prompt_time': 0.001323699, 'queue_time': 0.187896396, 'total_time': 0.050414608}, 'model_name': 'Gemma2-9b-It', 'system_fingerprint': 'fp_10c08bf97d', 'service_tier': 'on_demand', 'finish_reason': 'stop', 'logprobs': None}, id='run--063d7c4e-26e0-48a8-8d52-5f172a7b7795-0', usage_metadata={'input_tokens': 22, 'output_tokens': 27, 'total_tokens': 49})"
      ]
     },
     "execution_count": 7,
     "metadata": {},
     "output_type": "execute_result"
    }
   ],
   "source": [
    "gemma_result = gemma_model.invoke(messages)\n",
    "gemma_result"
   ]
  },
  {
   "cell_type": "code",
   "execution_count": 8,
   "id": "43469149",
   "metadata": {},
   "outputs": [
    {
     "data": {
      "text/plain": [
       "AIMessage(content='Bonjour, comment ça va\\u202f?', additional_kwargs={'reasoning_content': 'We need to translate \"Hello, How are you?\" to French. The translation: \"Bonjour, comment ça va ?\" or \"Bonjour, comment allez-vous ?\" Probably the standard. The user just asked for translation. So respond with the translation.'}, response_metadata={'token_usage': {'completion_tokens': 66, 'prompt_tokens': 87, 'total_tokens': 153, 'completion_time': 0.120550522, 'prompt_time': 0.004749003, 'queue_time': 0.084982749, 'total_time': 0.125299525}, 'model_name': 'openai/gpt-oss-120b', 'system_fingerprint': 'fp_085e8f07e2', 'service_tier': 'on_demand', 'finish_reason': 'stop', 'logprobs': None}, id='run--a2f5428c-9626-44f7-9a80-7cc5369fa36f-0', usage_metadata={'input_tokens': 87, 'output_tokens': 66, 'total_tokens': 153})"
      ]
     },
     "execution_count": 8,
     "metadata": {},
     "output_type": "execute_result"
    }
   ],
   "source": [
    "gpt_result = gpt_model.invoke(messages)\n",
    "gpt_result"
   ]
  },
  {
   "cell_type": "code",
   "execution_count": 9,
   "id": "4d0cd90e",
   "metadata": {},
   "outputs": [],
   "source": [
    "parser = StrOutputParser()"
   ]
  },
  {
   "cell_type": "code",
   "execution_count": 10,
   "id": "bcea1d40",
   "metadata": {},
   "outputs": [
    {
     "data": {
      "text/plain": [
       "\"Bonjour, comment allez-vous ? \\n\\n\\nLet me know if you have any other phrases you'd like translated!\\n\""
      ]
     },
     "execution_count": 10,
     "metadata": {},
     "output_type": "execute_result"
    }
   ],
   "source": [
    "gemma_output = parser.invoke(gemma_result)\n",
    "gemma_output"
   ]
  },
  {
   "cell_type": "code",
   "execution_count": 11,
   "id": "68ec42ec",
   "metadata": {},
   "outputs": [
    {
     "data": {
      "text/plain": [
       "'Bonjour, comment ça va\\u202f?'"
      ]
     },
     "execution_count": 11,
     "metadata": {},
     "output_type": "execute_result"
    }
   ],
   "source": [
    "gpt_output = parser.invoke(gpt_result)\n",
    "gpt_output"
   ]
  },
  {
   "cell_type": "code",
   "execution_count": 12,
   "id": "77870725",
   "metadata": {},
   "outputs": [
    {
     "data": {
      "text/plain": [
       "'Here are a few ways to translate \"Hello, How are you?\" to French:\\n\\n* **Bonjour, comment allez-vous ?** (Formal)\\n* **Salut, comment vas-tu ?** (Informal)\\n* **Bonjour, ça va ?** (Informal) \\n\\n\\nThe best option depends on the context and your relationship with the person you\\'re speaking to. \\n'"
      ]
     },
     "execution_count": 12,
     "metadata": {},
     "output_type": "execute_result"
    }
   ],
   "source": [
    "gemma_chain = gemma_model|parser\n",
    "gemma_chain_output = gemma_chain.invoke(messages)\n",
    "gemma_chain_output"
   ]
  },
  {
   "cell_type": "code",
   "execution_count": 13,
   "id": "e0e93c4e",
   "metadata": {},
   "outputs": [
    {
     "data": {
      "text/plain": [
       "'Bonjour, comment ça va\\u202f?'"
      ]
     },
     "execution_count": 13,
     "metadata": {},
     "output_type": "execute_result"
    }
   ],
   "source": [
    "gpt_chain = gpt_model|parser\n",
    "gpt_chain_output = gpt_chain.invoke(messages)\n",
    "gpt_chain_output"
   ]
  },
  {
   "cell_type": "code",
   "execution_count": 14,
   "id": "26a08d0d",
   "metadata": {},
   "outputs": [
    {
     "data": {
      "text/plain": [
       "ChatPromptTemplate(input_variables=['language', 'text'], input_types={}, partial_variables={}, messages=[SystemMessagePromptTemplate(prompt=PromptTemplate(input_variables=['language'], input_types={}, partial_variables={}, template='Translate the following into {language} : '), additional_kwargs={}), HumanMessagePromptTemplate(prompt=PromptTemplate(input_variables=['text'], input_types={}, partial_variables={}, template='{text}'), additional_kwargs={})])"
      ]
     },
     "execution_count": 14,
     "metadata": {},
     "output_type": "execute_result"
    }
   ],
   "source": [
    "generic_template = \"Translate the following into {language} : \"\n",
    "prompt = ChatPromptTemplate.from_messages(\n",
    "    [(\"system\", generic_template), (\"user\", \"{text}\")]\n",
    ")\n",
    "prompt"
   ]
  },
  {
   "cell_type": "code",
   "execution_count": 15,
   "id": "e766b69a",
   "metadata": {},
   "outputs": [
    {
     "data": {
      "text/plain": [
       "ChatPromptValue(messages=[SystemMessage(content='Translate the following into French : ', additional_kwargs={}, response_metadata={}), HumanMessage(content='Hello', additional_kwargs={}, response_metadata={})])"
      ]
     },
     "execution_count": 15,
     "metadata": {},
     "output_type": "execute_result"
    }
   ],
   "source": [
    "prompt_result = prompt.invoke({\"language\":\"French\", \"text\":\"Hello\"})\n",
    "prompt_result"
   ]
  },
  {
   "cell_type": "code",
   "execution_count": 16,
   "id": "d1d531db",
   "metadata": {},
   "outputs": [
    {
     "data": {
      "text/plain": [
       "[SystemMessage(content='Translate the following into French : ', additional_kwargs={}, response_metadata={}),\n",
       " HumanMessage(content='Hello', additional_kwargs={}, response_metadata={})]"
      ]
     },
     "execution_count": 16,
     "metadata": {},
     "output_type": "execute_result"
    }
   ],
   "source": [
    "prompt_result.to_messages()"
   ]
  },
  {
   "cell_type": "code",
   "execution_count": 17,
   "id": "1e13108a",
   "metadata": {},
   "outputs": [
    {
     "data": {
      "text/plain": [
       "'Bonjour \\n'"
      ]
     },
     "execution_count": 17,
     "metadata": {},
     "output_type": "execute_result"
    }
   ],
   "source": [
    "final_gemma_chain = prompt|gemma_model|parser\n",
    "final_gemma_chain_output = final_gemma_chain.invoke({\"language\":\"French\", \"text\":\"Hello\"})\n",
    "final_gemma_chain_output"
   ]
  },
  {
   "cell_type": "code",
   "execution_count": 18,
   "id": "4122da1d",
   "metadata": {},
   "outputs": [
    {
     "data": {
      "text/plain": [
       "'Bonjour'"
      ]
     },
     "execution_count": 18,
     "metadata": {},
     "output_type": "execute_result"
    }
   ],
   "source": [
    "final_gpt_chain = prompt|gpt_model|parser\n",
    "final_gpt_chain_output = final_gpt_chain.invoke({\"language\":\"French\", \"text\":\"Hello\"})\n",
    "final_gpt_chain_output"
   ]
  }
 ],
 "metadata": {
  "kernelspec": {
   "display_name": "venv",
   "language": "python",
   "name": "python3"
  },
  "language_info": {
   "codemirror_mode": {
    "name": "ipython",
    "version": 3
   },
   "file_extension": ".py",
   "mimetype": "text/x-python",
   "name": "python",
   "nbconvert_exporter": "python",
   "pygments_lexer": "ipython3",
   "version": "3.10.0"
  }
 },
 "nbformat": 4,
 "nbformat_minor": 5
}
